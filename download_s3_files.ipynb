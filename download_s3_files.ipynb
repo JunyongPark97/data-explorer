{
 "cells": [
  {
   "cell_type": "code",
   "execution_count": 1,
   "metadata": {},
   "outputs": [],
   "source": [
    "from boto3.session import Session\n",
    "import boto3\n",
    "import botocore"
   ]
  },
  {
   "cell_type": "code",
   "execution_count": 2,
   "metadata": {},
   "outputs": [],
   "source": [
    "from data_management_test.loader import load_credential"
   ]
  },
  {
   "cell_type": "code",
   "execution_count": 3,
   "metadata": {},
   "outputs": [],
   "source": [
    "ACCESS_KEY = load_credential(\"AWS_ACCESS_KEY_ID\",\"\")\n",
    "SECRET_ACCESS_KEY = load_credential(\"AWS_SECRET_ACCESS_KEY\",\"\")"
   ]
  },
  {
   "cell_type": "code",
   "execution_count": null,
   "metadata": {},
   "outputs": [],
   "source": [
    "class S3Manager():\n",
    "    def __init__(self):\n",
    "        self.access_key = load_credential(\"AWS_ACCESS_KEY_ID\",\"\")\n",
    "        self.secret_access_key = load_credential(\"AWS_SECRET_ACCESS_KEY\",\"\")\n",
    "        self.s3 =  boto3.resource('s3',\n",
    "                                aws_access_key_id=ACCESS_KEY,\n",
    "                                aws_secret_access_key=SECRET_ACCESS_KEY)\n",
    "\n",
    "    def get_file_lists(self, bucket_name, s3_folder):\n",
    "        lists = []\n",
    "        for s3_file in self.s3.Bucket(bucket_name).objects.all():\n",
    "            if s3_file.key.split('/')[0] == s3_folder:\n",
    "                lists.append(s3_file.key.split('/')[1])\n",
    "        return lists[5:9]\n",
    "    \n",
    "    def download_s3_files(self, bucket_name, s3_folder, local_path):\n",
    "        # local_path 는 jupyter를 실행한 폴더 기준\n",
    "        # 폴더 경로는 \\\\로 끝나야 함 (for Window)\n",
    "        file_list = self.get_file_lists(bucket_name, s3_folder)\n",
    "        print(file_list)\n",
    "        for file in file_list:\n",
    "            KEY = s3_folder + '/' + file\n",
    "            print(KEY)\n",
    "            try:\n",
    "                self.s3.Bucket(bucket_name).download_file(KEY, local_path + file)\n",
    "                print('downloaded')\n",
    "            except botocore.exceptions.ClientError as e:\n",
    "                if e.response['Error']['Code'] == \"404\":\n",
    "                    print(\"The object does not exist.\")\n",
    "                else:\n",
    "                    print('----')\n",
    "                    raise"
   ]
  }
 ],
 "metadata": {
  "kernelspec": {
   "display_name": "Python 3",
   "language": "python",
   "name": "python3"
  },
  "language_info": {
   "codemirror_mode": {
    "name": "ipython",
    "version": 3
   },
   "file_extension": ".py",
   "mimetype": "text/x-python",
   "name": "python",
   "nbconvert_exporter": "python",
   "pygments_lexer": "ipython3",
   "version": "3.6.8"
  }
 },
 "nbformat": 4,
 "nbformat_minor": 2
}
