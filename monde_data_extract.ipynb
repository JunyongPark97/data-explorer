{
 "cells": [
  {
   "cell_type": "code",
   "execution_count": 33,
   "metadata": {},
   "outputs": [],
   "source": [
    "import django\n",
    "import os\n",
    "import json\n",
    "os.environ['DJANGO_SETTINGS_MODULE'] = 'django_settings'\n",
    "django.setup()"
   ]
  },
  {
   "cell_type": "code",
   "execution_count": 34,
   "metadata": {},
   "outputs": [],
   "source": [
    "import pandas as pd\n",
    "import requests\n",
    "from io import BytesIO"
   ]
  },
  {
   "cell_type": "code",
   "execution_count": 35,
   "metadata": {},
   "outputs": [],
   "source": [
    "from data_management.models import *"
   ]
  },
  {
   "cell_type": "code",
   "execution_count": 36,
   "metadata": {
    "scrolled": true
   },
   "outputs": [
    {
     "data": {
      "text/plain": [
       "<QuerySet [<CroppedImage: CroppedImage object (178)>, <CroppedImage: CroppedImage object (179)>, <CroppedImage: CroppedImage object (180)>, <CroppedImage: CroppedImage object (181)>, <CroppedImage: CroppedImage object (182)>, <CroppedImage: CroppedImage object (183)>, <CroppedImage: CroppedImage object (184)>, <CroppedImage: CroppedImage object (185)>, <CroppedImage: CroppedImage object (186)>, <CroppedImage: CroppedImage object (187)>, <CroppedImage: CroppedImage object (188)>, <CroppedImage: CroppedImage object (189)>, <CroppedImage: CroppedImage object (190)>, <CroppedImage: CroppedImage object (191)>, <CroppedImage: CroppedImage object (192)>, <CroppedImage: CroppedImage object (193)>, <CroppedImage: CroppedImage object (194)>, <CroppedImage: CroppedImage object (195)>, <CroppedImage: CroppedImage object (196)>, <CroppedImage: CroppedImage object (197)>, '...(remaining elements truncated)...']>"
      ]
     },
     "execution_count": 36,
     "metadata": {},
     "output_type": "execute_result"
    }
   ],
   "source": [
    "CroppedImage.objects.select_related('origin_source')"
   ]
  },
  {
   "cell_type": "code",
   "execution_count": 37,
   "metadata": {},
   "outputs": [],
   "source": [
    "class DataExtractSave():\n",
    "    def __init__(self):\n",
    "        self.left = []\n",
    "        self.top = []\n",
    "        self.right = []\n",
    "        self.bottom = []\n",
    "        self.origin_url = []\n",
    "        self.width = []\n",
    "        self.height = []\n",
    "    \n",
    "    def get_image_size(self, resp):\n",
    "        from PIL import Image\n",
    "        byteImgIO = BytesIO()\n",
    "        byteImg = Image.open(BytesIO(resp.content))\n",
    "        byteImg.save(byteImgIO, \"JPEG\")\n",
    "        byteImgIO.seek(0)\n",
    "        byteImg = byteImgIO.read()\n",
    "        dataBytesIO = BytesIO(byteImg)\n",
    "        image = Image.open(dataBytesIO)\n",
    "        image = image.convert('RGB')\n",
    "        width, height = image.size\n",
    "        return width, height\n",
    "    \n",
    "    def get_data_and_append(self, obj, url):\n",
    "        self.origin_url.append(url)\n",
    "        resp = requests.get(url)\n",
    "        w, h = self.get_image_size(resp)\n",
    "        self.width.append(w)\n",
    "        self.height.append(h)\n",
    "        self.left.append(obj.left*w)\n",
    "        self.top.append(obj.top*h)\n",
    "        self.right.append(obj.right*w)\n",
    "        self.bottom.append(obj.bottom*h)\n",
    "    \n",
    "    def save_to_csv(self,  filename):\n",
    "        dic = {}\n",
    "        dic['left'] = self.left\n",
    "        dic['top'] = self.top\n",
    "        dic['right'] = self.right\n",
    "        dic['bottom'] = self.bottom\n",
    "        dic['origin_url'] = self.origin_url\n",
    "        dic['width'] = self.width\n",
    "        dic['height'] = self.height\n",
    "    \n",
    "        test_data_pd=pd.DataFrame.from_dict(dic)\n",
    "        print(filename)\n",
    "        test_data_pd.to_csv(filename, mode='w', index=False)\n",
    "        print('downloaded')\n",
    "        \n",
    "#     def save_data_from_cropped(self, filename, n):\n",
    "#         print(n)\n",
    "        \n",
    "#         if not n:\n",
    "#             queryset = CroppedImage.objects.filter(origin_source__image_url__isnull=False)\n",
    "#         else:\n",
    "#             N = int(n)\n",
    "#             queryset = CroppedImage.objects.filter(origin_source__image_url__isnull=False)[:N]\n",
    "#         i = 0\n",
    "#         for c in queryset:\n",
    "#             i += 1\n",
    "#             print(i)\n",
    "#             print(c)\n",
    "#             if c.origin_source.image:\n",
    "#                 url = c.origin_source.image.url\n",
    "#                 self.get_data_and_append(c, url)\n",
    "#         self.save_to_csv(filename)\n",
    "#         print('DONE!')\n",
    "        \n",
    "#     def save_data_from_s3_temp(self, filename, n):       \n",
    "#         if not n:\n",
    "#             queryset = CroppedImage.objects.filter(origin_source__image=\"\")\n",
    "#         else:\n",
    "#             N = int(n)\n",
    "#             queryset = CroppedImage.objects.filter(origin_source__image=\"\")[:N]\n",
    "#             print(queryset)\n",
    "#         i = 0\n",
    "#         for c in queryset:\n",
    "#             i +=1\n",
    "#             print(i)\n",
    "#             print(c)\n",
    "#             if c.origin_source.s3_image_url:\n",
    "#                 url = c.origin_source.s3_image_url\n",
    "#                 self.get_data_and_append(c, url)\n",
    "#         self.save_to_csv(filename)\n",
    "#         print('DONE!')\n",
    "        \n",
    "    def save_data_to_csv(self, filename, queryset):       \n",
    "        print(queryset.count())\n",
    "        i = 0\n",
    "        for c in queryset:\n",
    "            i +=1\n",
    "            if i%50==0:\n",
    "                print(i,'/ ',c)\n",
    "            if c.origin_source.image:\n",
    "                url = c.origin_source.image.url\n",
    "                self.get_data_and_append(c, url)\n",
    "            elif c.origin_source.s3_image_url:\n",
    "                url = c.origin_source.s3_image_url\n",
    "                self.get_data_and_append(c, url)\n",
    "        self.save_to_csv(filename)\n",
    "        print('DONE!')"
   ]
  },
  {
   "cell_type": "code",
   "execution_count": 9,
   "metadata": {},
   "outputs": [],
   "source": [
    "# save_data_from_cropped : 크로링 박싱후 저장한 데이터 csv로 저장\n",
    "# save_data_from_cropped('저장할 파일이름', 쿼리셋 개수) --> 쿼리셋 개수는 비워두면 전체에 대해 다운로드\n",
    "# Ex: save_data_from_cropped(\"crop_download_test.csv\",\"\")"
   ]
  },
  {
   "cell_type": "code",
   "execution_count": 11,
   "metadata": {},
   "outputs": [],
   "source": [
    "downloadmanager1= DataExtractSave()\n",
    "queryset1 = queryset = CroppedImage.objects.filter(origin_source__image_url__isnull=False)"
   ]
  },
  {
   "cell_type": "code",
   "execution_count": null,
   "metadata": {},
   "outputs": [],
   "source": [
    "downloadmanager1.save_data_to_csv(\"crop_download_test.csv\", queryset1)"
   ]
  },
  {
   "cell_type": "code",
   "execution_count": 13,
   "metadata": {},
   "outputs": [],
   "source": [
    "# save_data_from_s3_temp : s3업로드 파일 박싱후 저장한 데이터 csv로 저장\n",
    "# save_data_from_s3_temp('저장할 파일이름', 쿼리셋 개수) --> 쿼리셋 개수는 비워두면 전체에 대해 다운로드\n",
    "# Ex: save_data_from_s3_temp(\"s3upload_download_test.csv\",\"\")"
   ]
  },
  {
   "cell_type": "code",
   "execution_count": 14,
   "metadata": {},
   "outputs": [],
   "source": [
    "downloadmanager2= DataExtractSave()\n",
    "queryset2 = CroppedImage.objects.filter(origin_source__image=\"\")"
   ]
  },
  {
   "cell_type": "code",
   "execution_count": null,
   "metadata": {},
   "outputs": [],
   "source": [
    "downloadmanager2.save_data_to_csv(\"s3upload_download_test.csv\", queryset2)"
   ]
  },
  {
   "cell_type": "code",
   "execution_count": null,
   "metadata": {},
   "outputs": [],
   "source": []
  },
  {
   "cell_type": "code",
   "execution_count": null,
   "metadata": {},
   "outputs": [],
   "source": [
    "# image review (몸체만 정확히 박싱된 데이터) extract"
   ]
  },
  {
   "cell_type": "code",
   "execution_count": 38,
   "metadata": {},
   "outputs": [],
   "source": [
    "downloadmanager3= DataExtractSave()\n",
    "queryset3 = CroppedImage.objects.filter(origin_source__image_review=True)"
   ]
  },
  {
   "cell_type": "code",
   "execution_count": 39,
   "metadata": {},
   "outputs": [
    {
     "name": "stdout",
     "output_type": "stream",
     "text": [
      "1000\n",
      "50 /  CroppedImage object (7895)\n",
      "100 /  CroppedImage object (7945)\n",
      "150 /  CroppedImage object (7996)\n",
      "200 /  CroppedImage object (8047)\n",
      "250 /  CroppedImage object (8097)\n",
      "300 /  CroppedImage object (8147)\n",
      "350 /  CroppedImage object (8197)\n",
      "400 /  CroppedImage object (8248)\n",
      "450 /  CroppedImage object (8298)\n",
      "500 /  CroppedImage object (8348)\n",
      "550 /  CroppedImage object (8398)\n",
      "600 /  CroppedImage object (8448)\n",
      "650 /  CroppedImage object (8498)\n",
      "700 /  CroppedImage object (8548)\n",
      "750 /  CroppedImage object (8598)\n",
      "800 /  CroppedImage object (8648)\n",
      "850 /  CroppedImage object (8698)\n",
      "900 /  CroppedImage object (8748)\n",
      "950 /  CroppedImage object (8798)\n",
      "1000 /  CroppedImage object (9011)\n",
      "20191021_tight_boxed_data.csv\n",
      "downloaded\n",
      "DONE!\n"
     ]
    }
   ],
   "source": [
    "downloadmanager3.save_data_to_csv(\"20191021_tight_boxed_data.csv\", queryset3)"
   ]
  },
  {
   "cell_type": "code",
   "execution_count": null,
   "metadata": {},
   "outputs": [],
   "source": []
  },
  {
   "cell_type": "code",
   "execution_count": 20,
   "metadata": {
    "scrolled": false
   },
   "outputs": [
    {
     "data": {
      "text/plain": [
       "0"
      ]
     },
     "execution_count": 20,
     "metadata": {},
     "output_type": "execute_result"
    }
   ],
   "source": [
    "CroppedImage.objects.filter(origin_source__image=\"\").exclude(origin_source__image=\"\").count()"
   ]
  },
  {
   "cell_type": "code",
   "execution_count": 6,
   "metadata": {},
   "outputs": [
    {
     "data": {
      "text/plain": [
       "8565"
      ]
     },
     "execution_count": 6,
     "metadata": {},
     "output_type": "execute_result"
    }
   ],
   "source": [
    "CroppedImage.objects.filter(origin_source__image_url__isnull=False).count()"
   ]
  },
  {
   "cell_type": "code",
   "execution_count": 10,
   "metadata": {},
   "outputs": [
    {
     "data": {
      "text/plain": [
       "8565"
      ]
     },
     "execution_count": 10,
     "metadata": {},
     "output_type": "execute_result"
    }
   ],
   "source": [
    "CroppedImage.objects.all().count()"
   ]
  },
  {
   "cell_type": "code",
   "execution_count": 31,
   "metadata": {},
   "outputs": [
    {
     "data": {
      "text/plain": [
       "1000"
      ]
     },
     "execution_count": 31,
     "metadata": {},
     "output_type": "execute_result"
    }
   ],
   "source": [
    "CroppedImage.objects.filter(origin_source__image_review=True).count()"
   ]
  }
 ],
 "metadata": {
  "kernelspec": {
   "display_name": "Python 3",
   "language": "python",
   "name": "python3"
  },
  "language_info": {
   "codemirror_mode": {
    "name": "ipython",
    "version": 3
   },
   "file_extension": ".py",
   "mimetype": "text/x-python",
   "name": "python",
   "nbconvert_exporter": "python",
   "pygments_lexer": "ipython3",
   "version": "3.7.3"
  }
 },
 "nbformat": 4,
 "nbformat_minor": 2
}
