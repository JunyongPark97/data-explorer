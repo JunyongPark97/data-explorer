{
 "cells": [
  {
   "cell_type": "code",
   "execution_count": 5,
   "metadata": {},
   "outputs": [],
   "source": [
    "import django\n",
    "import os\n",
    "import json\n",
    "os.environ['DJANGO_SETTINGS_MODULE'] = 'django_settings'\n",
    "django.setup()"
   ]
  },
  {
   "cell_type": "code",
   "execution_count": 6,
   "metadata": {},
   "outputs": [],
   "source": [
    "from boto3.session import Session\n",
    "import boto3\n",
    "import botocore\n",
    "import pandas as pd"
   ]
  },
  {
   "cell_type": "code",
   "execution_count": 7,
   "metadata": {},
   "outputs": [],
   "source": [
    "from loader import load_credential"
   ]
  },
  {
   "cell_type": "code",
   "execution_count": 8,
   "metadata": {},
   "outputs": [],
   "source": [
    "ACCESS_KEY = load_credential(\"AWS_ACCESS_KEY_ID\",\"\")\n",
    "SECRET_ACCESS_KEY = load_credential(\"AWS_SECRET_ACCESS_KEY\",\"\")"
   ]
  },
  {
   "cell_type": "code",
   "execution_count": 9,
   "metadata": {},
   "outputs": [],
   "source": [
    "from data_management.models import *"
   ]
  },
  {
   "cell_type": "code",
   "execution_count": null,
   "metadata": {},
   "outputs": [],
   "source": []
  },
  {
   "cell_type": "code",
   "execution_count": null,
   "metadata": {},
   "outputs": [],
   "source": [
    "################# download image from csv: 사용할 csv와 다운받을 버킷을 지정해 줘야 사용 가능합니다. #################"
   ]
  },
  {
   "cell_type": "code",
   "execution_count": 7,
   "metadata": {},
   "outputs": [],
   "source": [
    "class S3Manager():\n",
    "    def __init__(self):\n",
    "        self.access_key = load_credential(\"AWS_ACCESS_KEY_ID\",\"\")\n",
    "        self.secret_access_key = load_credential(\"AWS_SECRET_ACCESS_KEY\",\"\")\n",
    "        self.s3 =  boto3.resource('s3',\n",
    "                                aws_access_key_id=ACCESS_KEY,\n",
    "                                aws_secret_access_key=SECRET_ACCESS_KEY)\n",
    "\n",
    "    def get_file_lists(self, bucket_name, s3_folder):\n",
    "        lists = []\n",
    "        if not s3_folder:\n",
    "            for s3_file in self.s3.Bucket(bucket_name).objects.all():\n",
    "                lists.append(s3_file.key)\n",
    "            return lists\n",
    "        for s3_file in self.s3.Bucket(bucket_name).objects.all():\n",
    "            if s3_file.key.split('/')[0] == s3_folder:\n",
    "                lists.append(s3_file.key.split('/')[1])\n",
    "        return lists\n",
    "    \n",
    "    def extract_training_lists(self, csv_file, file_list):\n",
    "        df = pd.read_csv(csv_file)\n",
    "        csv_list = []\n",
    "        new_file_list = []\n",
    "        for i in range(len(df)):\n",
    "            csv_list.append(df['origin_url'][i].split('/')[-1])\n",
    "        for i in range(len(file_list)):\n",
    "            for j in range(len(csv_list)):\n",
    "                if(file_list[i] == csv_list[j]):\n",
    "                    new_file_list.append(file_list[i])\n",
    "        return new_file_list\n",
    "    \n",
    "    def download_s3_files(self, bucket_name, s3_folder, csv_file, local_path):\n",
    "        # local_path 는 jupyter를 실행한 폴더 기준\n",
    "        # 폴더 경로는 \\\\로 끝나야 함 (for Window)\n",
    "        # TODO : pandas로 csv 읽고 filelist에 있는 것만 남기기\n",
    "        file_list = self.get_file_lists(bucket_name, s3_folder)\n",
    "        file_list = self.extract_training_lists(csv_file, file_list)\n",
    "        i = 0\n",
    "        for file in file_list:\n",
    "            i += 1\n",
    "            print(i)\n",
    "            if s3_folder:\n",
    "                KEY = s3_folder + '/' + file\n",
    "            else:\n",
    "                KEY = file\n",
    "            print(KEY)\n",
    "            try:\n",
    "                self.s3.Bucket(bucket_name).download_file(KEY, local_path + file)\n",
    "                print('downloaded')\n",
    "            except botocore.exceptions.ClientError as e:\n",
    "                if e.response['Error']['Code'] == \"404\":\n",
    "                    print(\"The object does not exist.\")\n",
    "                else:\n",
    "                    print('----')\n",
    "                    raise\n",
    "        print('DONE!')"
   ]
  },
  {
   "cell_type": "code",
   "execution_count": 8,
   "metadata": {},
   "outputs": [],
   "source": [
    "# download from monde-data : BucketNmae --> 크롤링 파일들 박싱한 데이터 저장한 버킷\n",
    "# s3manager.download_s3_files('버킷이름', ''폴더이름, 'csv파일', '저장경로')"
   ]
  },
  {
   "cell_type": "code",
   "execution_count": 9,
   "metadata": {},
   "outputs": [],
   "source": [
    "s3manager1 = S3Manager()"
   ]
  },
  {
   "cell_type": "code",
   "execution_count": null,
   "metadata": {},
   "outputs": [],
   "source": [
    "s3manager1.download_s3_files('monde-data', 'original-bag-images-dev', './crop_download_test.csv', './data/')"
   ]
  },
  {
   "cell_type": "code",
   "execution_count": 11,
   "metadata": {},
   "outputs": [],
   "source": [
    "# download from temp-originalimage : BucketNmae --> hdf5파일들 저장한 버킷\n",
    "# s3manager.download_s3_files('버킷이름', ''폴더이름, 'csv파일', '저장경로')\n",
    "# 폴더가 없으므로 비워둠"
   ]
  },
  {
   "cell_type": "code",
   "execution_count": 12,
   "metadata": {},
   "outputs": [],
   "source": [
    "s3manager2 = S3Manager()"
   ]
  },
  {
   "cell_type": "code",
   "execution_count": null,
   "metadata": {},
   "outputs": [],
   "source": [
    "s3manager2.download_s3_files('temp-originalimage', '', './s3upload_download_test.csv', './data/')"
   ]
  },
  {
   "cell_type": "code",
   "execution_count": null,
   "metadata": {},
   "outputs": [],
   "source": []
  },
  {
   "cell_type": "code",
   "execution_count": null,
   "metadata": {},
   "outputs": [],
   "source": [
    "################# download image from queryset : bucket은 temp-originalimage & monde-data 두개에서 다운 받습니다. #################\n",
    "# TODO : mondebro에서 태깅한 데이터 사용 가능하게 "
   ]
  },
  {
   "cell_type": "code",
   "execution_count": 127,
   "metadata": {},
   "outputs": [],
   "source": [
    "class S3Manager2():\n",
    "        def __init__(self):\n",
    "            self.access_key = load_credential(\"AWS_ACCESS_KEY_ID\",\"\")\n",
    "            self.secret_access_key = load_credential(\"AWS_SECRET_ACCESS_KEY\",\"\")\n",
    "            self.s3 =  boto3.resource('s3',\n",
    "                                    aws_access_key_id=ACCESS_KEY,\n",
    "                                    aws_secret_access_key=SECRET_ACCESS_KEY)\n",
    "            self.temp_bucket_list = self.get_s3_file_temp_bucket()\n",
    "            self.mondedata_bucket_list = self.get_s3_file_mondedata_bucket()\n",
    "            \n",
    "        \n",
    "        def get_s3_file_temp_bucket(self):\n",
    "            lists = []\n",
    "            for s3_file in self.s3.Bucket('temp-originalimage').objects.all():\n",
    "                lists.append(s3_file.key)\n",
    "            return lists\n",
    "        \n",
    "        def get_s3_file_mondedata_bucket(self):\n",
    "            lists = []\n",
    "            for s3_file in self.s3.Bucket('monde-data').objects.all():\n",
    "                if s3_file.key.split('/')[0] == 'original-bag-images-dev':\n",
    "                    lists.append(s3_file.key)\n",
    "            return lists\n",
    "        \n",
    "        # s3_image_url 이 존재할 때\n",
    "        def get_list_from_queryset(self, queryset, n):\n",
    "            new_file_list_t = []\n",
    "            new_file_list_m = []\n",
    "            \n",
    "            qs_temp_bucket = queryset.filter(s3_image_url__isnull=False)\n",
    "            temp_bucket_list = []\n",
    "            qs_mondedata_bucket = queryset.exclude(image=\"\")\n",
    "            mondedata_bucket_list = []\n",
    "            \n",
    "            for q in qs_temp_bucket:\n",
    "                name = q.s3_image_url.split('/')[-1]\n",
    "                temp_bucket_list.append(name)\n",
    "                \n",
    "            for q in qs_mondedata_bucket:\n",
    "                name = q.image.name\n",
    "                mondedata_bucket_list.append(name)\n",
    "            \n",
    "            pre_temp_bucket_list = self.temp_bucket_list\n",
    "            \n",
    "            #temp_bucket\n",
    "            for i in range(len(pre_temp_bucket_list)):\n",
    "                for j in range(len(temp_bucket_list)):\n",
    "                    if(pre_temp_bucket_list[i] == temp_bucket_list[j]):\n",
    "                        new_file_list_t.append(pre_temp_bucket_list[i])\n",
    "        \n",
    "            pre_mondedata_bucket_list = self.mondedata_bucket_list\n",
    "            \n",
    "            #mondedata_bucket\n",
    "            for i in range(len(pre_mondedata_bucket_list)):\n",
    "                for j in range(len(mondedata_bucket_list)):\n",
    "                    if(pre_mondedata_bucket_list[i] == mondedata_bucket_list[j]):\n",
    "                        new_file_list_m.append(pre_mondedata_bucket_list[i])\n",
    "                        \n",
    "            if n == 1: # temp bucket\n",
    "                return new_file_list_t\n",
    "            elif n == 2:\n",
    "                return new_file_list_m\n",
    "            else:\n",
    "                print('ERROR')\n",
    "    \n",
    "        def download_s3_files_from_queryset(self, local_path, queryset):\n",
    "            # local_path 는 jupyter를 실행한 폴더 기준\n",
    "            # 폴더 경로는 \\\\로 끝나야 함 (for Window)\n",
    "            file_list_t = self.get_list_from_queryset(queryset, 1)\n",
    "            file_list_m = self.get_list_from_queryset(queryset, 2)\n",
    "            i = 0\n",
    "            for file in file_list_t:\n",
    "                i += 1\n",
    "                KEY = file\n",
    "                dest_pathname = os.path.join(local_path, KEY)\n",
    "                if i % 100 == 0:\n",
    "                    print(i)\n",
    "                    print(KEY)\n",
    "                try:\n",
    "                    self.s3.Bucket('temp-originalimage').download_file(KEY, dest_pathname)\n",
    "                except botocore.exceptions.ClientError as e:\n",
    "                    if e.response['Error']['Code'] == \"404\":\n",
    "                        print(\"The object does not exist.\")\n",
    "                    else:\n",
    "                        print('----')\n",
    "                        raise\n",
    "            print('======')\n",
    "        \n",
    "            i = 0\n",
    "            for file in file_list_m:\n",
    "                i += 1\n",
    "                KEY = file\n",
    "                path_key = KEY.split('/')[1]\n",
    "                dest_pathname = os.path.join(local_path, path_key)\n",
    "                if i % 100 == 0:\n",
    "                    print(i)\n",
    "                    print(KEY)\n",
    "                try:\n",
    "                    self.s3.Bucket('monde-data').download_file(KEY, dest_pathname)\n",
    "                except botocore.exceptions.ClientError as e:\n",
    "                    if e.response['Error']['Code'] == \"404\":\n",
    "                        print(\"The object does not exist.\")\n",
    "                    else:\n",
    "                        print('----')\n",
    "                        raise\n",
    "            print('DONE')"
   ]
  },
  {
   "cell_type": "code",
   "execution_count": 19,
   "metadata": {},
   "outputs": [
    {
     "data": {
      "text/plain": [
       "'https://temp-originalimage.s3.ap-northeast-2.amazonaws.com/square_24_XPJO3185PYE_1.jpg'"
      ]
     },
     "execution_count": 19,
     "metadata": {},
     "output_type": "execute_result"
    }
   ],
   "source": [
    "CroppedImage.objects.filter(origin_source__image_review=True).last().origin_source.s3_image_url"
   ]
  },
  {
   "cell_type": "code",
   "execution_count": 54,
   "metadata": {},
   "outputs": [
    {
     "data": {
      "text/plain": [
       "1700"
      ]
     },
     "execution_count": 54,
     "metadata": {},
     "output_type": "execute_result"
    }
   ],
   "source": [
    "OriginalImage.objects.filter(image_review=True).count()"
   ]
  },
  {
   "cell_type": "code",
   "execution_count": 128,
   "metadata": {},
   "outputs": [],
   "source": [
    "a=S3Manager2()"
   ]
  },
  {
   "cell_type": "code",
   "execution_count": 129,
   "metadata": {},
   "outputs": [],
   "source": [
    "queryset = OriginalImage.objects.filter(image_review=True)"
   ]
  },
  {
   "cell_type": "code",
   "execution_count": null,
   "metadata": {},
   "outputs": [],
   "source": [
    "a.download_s3_files_from_queryset('./data/', queryset)"
   ]
  }
 ],
 "metadata": {
  "kernelspec": {
   "display_name": "Python 3",
   "language": "python",
   "name": "python3"
  },
  "language_info": {
   "codemirror_mode": {
    "name": "ipython",
    "version": 3
   },
   "file_extension": ".py",
   "mimetype": "text/x-python",
   "name": "python",
   "nbconvert_exporter": "python",
   "pygments_lexer": "ipython3",
   "version": "3.7.3"
  }
 },
 "nbformat": 4,
 "nbformat_minor": 2
}
