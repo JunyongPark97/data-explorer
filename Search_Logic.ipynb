{
 "cells": [
  {
   "cell_type": "code",
   "execution_count": 1,
   "metadata": {},
   "outputs": [],
   "source": [
    "import django\n",
    "import os\n",
    "import json\n",
    "os.environ['DJANGO_SETTINGS_MODULE'] = 'django_settings'\n",
    "django.setup()"
   ]
  },
  {
   "cell_type": "code",
   "execution_count": 35,
   "metadata": {},
   "outputs": [],
   "source": [
    "from IPython.display import Image\n",
    "from IPython.core.display import HTML \n",
    "import requests\n",
    "import math"
   ]
  },
  {
   "cell_type": "code",
   "execution_count": 3,
   "metadata": {},
   "outputs": [],
   "source": [
    "from web_crawler.models import *"
   ]
  },
  {
   "cell_type": "code",
   "execution_count": 5,
   "metadata": {},
   "outputs": [],
   "source": [
    "aws_url = 'https://monde-web-crawler.s3.ap-northeast-2.amazonaws.com/'"
   ]
  },
  {
   "cell_type": "code",
   "execution_count": 91,
   "metadata": {},
   "outputs": [],
   "source": [
    "f = CategoryCategories.objects.last()"
   ]
  },
  {
   "cell_type": "code",
   "execution_count": 92,
   "metadata": {},
   "outputs": [],
   "source": [
    "url=f.bag_image.bag_image.url"
   ]
  },
  {
   "cell_type": "code",
   "execution_count": 93,
   "metadata": {},
   "outputs": [
    {
     "name": "stdout",
     "output_type": "stream",
     "text": [
      "https://monde-web-crawler.s3.ap-northeast-2.amazonaws.com/crawled-image/MYXCGH8X9LK_1.jpg\n"
     ]
    }
   ],
   "source": [
    "URL = aws_url + url\n",
    "print(URL)"
   ]
  },
  {
   "cell_type": "code",
   "execution_count": 94,
   "metadata": {},
   "outputs": [
    {
     "data": {
      "image/jpeg": "[encoded data removed]",
      "text/plain": [
       "<IPython.core.display.Image object>"
      ]
     },
     "execution_count": 94,
     "metadata": {},
     "output_type": "execute_result"
    }
   ],
   "source": [
    "Image(requests.get(URL).content)"
   ]
  },
  {
   "cell_type": "code",
   "execution_count": 12,
   "metadata": {},
   "outputs": [],
   "source": [
    "user_input = {\n",
    "    \"shape\" : \"bucket\",\n",
    "    \"color\" : \"blue\",\n",
    "    \"handle\" : \"tote\"\n",
    "}"
   ]
  },
  {
   "cell_type": "code",
   "execution_count": 22,
   "metadata": {},
   "outputs": [],
   "source": [
    "def is_include(value, data):\n",
    "    if value in data:\n",
    "        return True\n",
    "    return False"
   ]
  },
  {
   "cell_type": "code",
   "execution_count": 23,
   "metadata": {},
   "outputs": [],
   "source": [
    "def get_data_result(category, instance):\n",
    "    s_data = instance.shape_result\n",
    "    h_data = instance.handle_result\n",
    "    ch_data = instance.charm_result\n",
    "    co_data = instance.color_result\n",
    "    d_data = instance.deco_result\n",
    "    p_data = instance.pattern_result\n",
    "    if category == 'shape':\n",
    "        return(s_data)\n",
    "    elif category == 'handle':\n",
    "        return(h_data)\n",
    "    elif category == 'charm':\n",
    "        return(ch_data)\n",
    "    elif category == 'color':\n",
    "        return(co_data)\n",
    "    elif category == 'deco':\n",
    "        return(d_data)\n",
    "    elif category == 'pattern':\n",
    "        return(p_data)\n",
    "    return None"
   ]
  },
  {
   "cell_type": "code",
   "execution_count": 38,
   "metadata": {},
   "outputs": [],
   "source": [
    "def pass_filter(value, count):\n",
    "    result = value * math.sqrt(((count/10) + 1) * count)\n",
    "    return result"
   ]
  },
  {
   "cell_type": "code",
   "execution_count": 50,
   "metadata": {},
   "outputs": [],
   "source": [
    "def product_overlap_count(user_input, instance):\n",
    "    count = 0\n",
    "    value = 0\n",
    "    weight = 2\n",
    "    \n",
    "    for category in user_input.keys():\n",
    "        data = get_data_result(category, instance)\n",
    "        user_select = user_input[category]\n",
    "        if user_select in data:\n",
    "            count +=1\n",
    "            value += data[user_select] * weight\n",
    "            \n",
    "    if count == 0:\n",
    "        pass\n",
    "    \n",
    "    result = pass_filter(value, count)\n",
    "\n",
    "\n",
    "    return instance, result"
   ]
  },
  {
   "cell_type": "code",
   "execution_count": null,
   "metadata": {},
   "outputs": [],
   "source": [
    "# 결과값이 0인 것들도 보여줘야 할까? 보여주는거 vs 안보여주고 데이터 조금 보여주는거"
   ]
  },
  {
   "cell_type": "code",
   "execution_count": 84,
   "metadata": {},
   "outputs": [],
   "source": [
    "def filtered_data(instance, user_input, result_dict):\n",
    "    i, result = product_overlap_count(user_input, instance)\n",
    "    if result != 0:\n",
    "        result_dict[i]=result\n",
    "    else:\n",
    "        pass\n",
    "    return result_dict"
   ]
  },
  {
   "cell_type": "code",
   "execution_count": 85,
   "metadata": {},
   "outputs": [],
   "source": [
    "result_dict={}\n",
    "for i in CategoryCategories.objects.all():\n",
    "    result_dict = filtered_data(i, user_input, result_dict)"
   ]
  },
  {
   "cell_type": "code",
   "execution_count": null,
   "metadata": {},
   "outputs": [],
   "source": [
    "# TODO : weight 정하기. 선택하는 순서에 따라?"
   ]
  },
  {
   "cell_type": "code",
   "execution_count": 90,
   "metadata": {},
   "outputs": [],
   "source": [
    "sorted_x = sorted(result_dict.items(), key=lambda kv: kv[1], reverse=True)"
   ]
  }
 ],
 "metadata": {
  "kernelspec": {
   "display_name": "Python 3",
   "language": "python",
   "name": "python3"
  },
  "language_info": {
   "codemirror_mode": {
    "name": "ipython",
    "version": 3
   },
   "file_extension": ".py",
   "mimetype": "text/x-python",
   "name": "python",
   "nbconvert_exporter": "python",
   "pygments_lexer": "ipython3",
   "version": "3.7.3"
  }
 },
 "nbformat": 4,
 "nbformat_minor": 2
}
