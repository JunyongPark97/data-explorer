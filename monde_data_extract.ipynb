{
 "cells": [
  {
   "cell_type": "code",
   "execution_count": 1,
   "metadata": {},
   "outputs": [],
   "source": [
    "import django\n",
    "import os\n",
    "import json\n",
    "os.environ['DJANGO_SETTINGS_MODULE'] = 'django_settings'\n",
    "django.setup()"
   ]
  },
  {
   "cell_type": "code",
   "execution_count": 2,
   "metadata": {},
   "outputs": [],
   "source": [
    "import pandas as pd\n",
    "import requests\n",
    "from io import BytesIO"
   ]
  },
  {
   "cell_type": "code",
   "execution_count": 3,
   "metadata": {},
   "outputs": [],
   "source": [
    "from data_management.models import *"
   ]
  },
  {
   "cell_type": "code",
   "execution_count": 4,
   "metadata": {
    "scrolled": true
   },
   "outputs": [
    {
     "data": {
      "text/plain": [
       "<QuerySet [<CroppedImage: CroppedImage object (178)>, <CroppedImage: CroppedImage object (179)>, <CroppedImage: CroppedImage object (180)>, <CroppedImage: CroppedImage object (181)>, <CroppedImage: CroppedImage object (182)>, <CroppedImage: CroppedImage object (183)>, <CroppedImage: CroppedImage object (184)>, <CroppedImage: CroppedImage object (185)>, <CroppedImage: CroppedImage object (186)>, <CroppedImage: CroppedImage object (187)>, <CroppedImage: CroppedImage object (188)>, <CroppedImage: CroppedImage object (189)>, <CroppedImage: CroppedImage object (190)>, <CroppedImage: CroppedImage object (191)>, <CroppedImage: CroppedImage object (192)>, <CroppedImage: CroppedImage object (193)>, <CroppedImage: CroppedImage object (194)>, <CroppedImage: CroppedImage object (195)>, <CroppedImage: CroppedImage object (196)>, <CroppedImage: CroppedImage object (197)>, '...(remaining elements truncated)...']>"
      ]
     },
     "execution_count": 4,
     "metadata": {},
     "output_type": "execute_result"
    }
   ],
   "source": [
    "CroppedImage.objects.select_related('origin_source')"
   ]
  },
  {
   "cell_type": "code",
   "execution_count": 5,
   "metadata": {},
   "outputs": [],
   "source": [
    "class DataExtractSave():\n",
    "    def __init__(self):\n",
    "        self.left = []\n",
    "        self.top = []\n",
    "        self.right = []\n",
    "        self.bottom = []\n",
    "        self.origin_url = []\n",
    "        self.width = []\n",
    "        self.height = []\n",
    "    \n",
    "    def get_image_size(self, resp):\n",
    "        from PIL import Image\n",
    "        byteImgIO = BytesIO()\n",
    "        byteImg = Image.open(BytesIO(resp.content))\n",
    "        byteImg.save(byteImgIO, \"JPEG\")\n",
    "        byteImgIO.seek(0)\n",
    "        byteImg = byteImgIO.read()\n",
    "        dataBytesIO = BytesIO(byteImg)\n",
    "        image = Image.open(dataBytesIO)\n",
    "        image = image.convert('RGB')\n",
    "        width, height = image.size\n",
    "        return width, height\n",
    "    \n",
    "    def get_data_and_append(self, obj):\n",
    "        if obj.origin_source.image:\n",
    "            url = obj.origin_source.image.url\n",
    "        else:\n",
    "            url = obj.origin_source.s3_image_url\n",
    "        self.origin_url.append(url)\n",
    "        resp = requests.get(url)\n",
    "        w, h = self.get_image_size(resp)\n",
    "        self.width.append(w)\n",
    "        self.height.append(h)\n",
    "        self.left.append(obj.left*w)\n",
    "        self.top.append(obj.top*h)\n",
    "        self.right.append(obj.right*w)\n",
    "        self.bottom.append(obj.bottom*h)\n",
    "    \n",
    "    def save_to_csv(self,  filename):\n",
    "        dic = {}\n",
    "        dic['left'] = self.left\n",
    "        dic['top'] = self.top\n",
    "        dic['right'] = self.right\n",
    "        dic['bottom'] = self.bottom\n",
    "        dic['origin_url'] = self.origin_url\n",
    "        dic['width'] = self.width\n",
    "        dic['height'] = self.height\n",
    "    \n",
    "        test_data_pd=pd.DataFrame.from_dict(dic)\n",
    "        print(filename)\n",
    "        test_data_pd.to_csv(filename, mode='w', index=False)\n",
    "        print('downloaded')\n",
    "        \n",
    "    def save_data_from_cropped(self, filename, n):\n",
    "        print(n)\n",
    "        N = int(n)\n",
    "        if not n:\n",
    "            queryset = CroppedImage.objects.filter(origin_source__image__isnull=False)\n",
    "        else:\n",
    "            queryset = CroppedImage.objects.filter(origin_source__image__isnull=False)[:N]\n",
    "    \n",
    "        for c in queryset:\n",
    "            print(c)\n",
    "            self.get_data_and_append(c)\n",
    "            print(self.left)\n",
    "        self.save_to_csv(filename)\n",
    "        \n",
    "    def save_data_from_s3_temp(self, filename, n):\n",
    "        print(n)\n",
    "        N = int(n)\n",
    "        if not n:\n",
    "            queryset = CroppedImage.objects.filter(origin_source__image=\"\")\n",
    "        else:\n",
    "            queryset = CroppedImage.objects.filter(origin_source__image=\"\")[:N]\n",
    "            print(queryset)\n",
    "    \n",
    "        for c in queryset:\n",
    "            print(c)\n",
    "            self.get_data_and_append(c)\n",
    "            print(self.left)\n",
    "        self.save_to_csv(filename)"
   ]
  },
  {
   "cell_type": "code",
   "execution_count": 6,
   "metadata": {},
   "outputs": [],
   "source": [
    "downloadmanager= DataExtractSave()"
   ]
  },
  {
   "cell_type": "code",
   "execution_count": 7,
   "metadata": {},
   "outputs": [],
   "source": [
    "# save_data_from_cropped : 크로링 박싱후 저장한 데이터 csv로 저장\n",
    "# save_data_from_cropped('저장할 파일이름', 쿼리셋 개수) --> 쿼리셋 개수는 비워두면 전체에 대해 다운로드\n",
    "# Ex: save_data_from_cropped(\"crop_download_test.csv\",\"\")"
   ]
  },
  {
   "cell_type": "code",
   "execution_count": 8,
   "metadata": {},
   "outputs": [
    {
     "name": "stdout",
     "output_type": "stream",
     "text": [
      "3\n",
      "CroppedImage object (178)\n",
      "[Decimal('255.8976')]\n",
      "CroppedImage object (179)\n",
      "[Decimal('255.8976'), Decimal('77.3718')]\n",
      "CroppedImage object (180)\n",
      "[Decimal('255.8976'), Decimal('77.3718'), Decimal('75.3033')]\n",
      "crop_download_test.csv\n",
      "downloaded\n"
     ]
    }
   ],
   "source": [
    "downloadmanager.save_data_from_cropped(\"crop_download_test.csv\",\"3\")"
   ]
  },
  {
   "cell_type": "code",
   "execution_count": 9,
   "metadata": {},
   "outputs": [],
   "source": [
    "# save_data_from_s3_temp : s3업로드 파일 박싱후 저장한 데이터 csv로 저장\n",
    "# save_data_from_s3_temp('저장할 파일이름', 쿼리셋 개수) --> 쿼리셋 개수는 비워두면 전체에 대해 다운로드\n",
    "# Ex: save_data_from_s3_temp(\"s3upload_download_test.csv\",\"\")"
   ]
  },
  {
   "cell_type": "code",
   "execution_count": 10,
   "metadata": {
    "scrolled": true
   },
   "outputs": [
    {
     "name": "stdout",
     "output_type": "stream",
     "text": [
      "3\n",
      "<QuerySet [<CroppedImage: CroppedImage object (5736)>, <CroppedImage: CroppedImage object (5737)>, <CroppedImage: CroppedImage object (5738)>]>\n",
      "CroppedImage object (5736)\n",
      "[Decimal('255.8976'), Decimal('77.3718'), Decimal('75.3033'), Decimal('8.9892')]\n",
      "CroppedImage object (5737)\n",
      "[Decimal('255.8976'), Decimal('77.3718'), Decimal('75.3033'), Decimal('8.9892'), Decimal('6.9916')]\n",
      "CroppedImage object (5738)\n",
      "[Decimal('255.8976'), Decimal('77.3718'), Decimal('75.3033'), Decimal('8.9892'), Decimal('6.9916'), Decimal('0.0000')]\n",
      "s3upload_download_test.csv\n",
      "downloaded\n"
     ]
    }
   ],
   "source": [
    "downloadmanager.save_data_from_s3_temp(\"s3upload_download_test.csv\",\"3\")"
   ]
  },
  {
   "cell_type": "code",
   "execution_count": null,
   "metadata": {},
   "outputs": [],
   "source": []
  }
 ],
 "metadata": {
  "kernelspec": {
   "display_name": "Python 3",
   "language": "python",
   "name": "python3"
  },
  "language_info": {
   "codemirror_mode": {
    "name": "ipython",
    "version": 3
   },
   "file_extension": ".py",
   "mimetype": "text/x-python",
   "name": "python",
   "nbconvert_exporter": "python",
   "pygments_lexer": "ipython3",
   "version": "3.7.3"
  }
 },
 "nbformat": 4,
 "nbformat_minor": 2
}
