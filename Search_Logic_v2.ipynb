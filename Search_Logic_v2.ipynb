{
 "cells": [
  {
   "cell_type": "code",
   "execution_count": 11,
   "metadata": {},
   "outputs": [],
   "source": [
    "import django\n",
    "import os\n",
    "import json\n",
    "os.environ['DJANGO_SETTINGS_MODULE'] = 'django_settings'\n",
    "django.setup()"
   ]
  },
  {
   "cell_type": "code",
   "execution_count": 12,
   "metadata": {},
   "outputs": [],
   "source": [
    "from IPython.display import Image\n",
    "from IPython.core.display import HTML \n",
    "import requests\n",
    "import math"
   ]
  },
  {
   "cell_type": "code",
   "execution_count": 14,
   "metadata": {},
   "outputs": [],
   "source": [
    "# 마지막 color filter "
   ]
  },
  {
   "cell_type": "code",
   "execution_count": 15,
   "metadata": {},
   "outputs": [],
   "source": [
    "from monde.models import *"
   ]
  },
  {
   "cell_type": "code",
   "execution_count": 16,
   "metadata": {},
   "outputs": [
    {
     "data": {
      "text/plain": [
       "{'clutch_bag': 1}"
      ]
     },
     "execution_count": 16,
     "metadata": {},
     "output_type": "execute_result"
    }
   ],
   "source": [
    "Product.objects.last().categories.type_result"
   ]
  },
  {
   "cell_type": "code",
   "execution_count": 79,
   "metadata": {},
   "outputs": [],
   "source": [
    "def get_data_result(category, instance):\n",
    "    s_data = instance.shape_result\n",
    "    ch_data = instance.charm_result\n",
    "    co_data = instance.colors\n",
    "    d_data = instance.deco_result\n",
    "    p_data = instance.pattern_result\n",
    "    if category == 'shape':\n",
    "        return s_data, 10\n",
    "    elif category == 'charm':\n",
    "        return ch_data, 6\n",
    "    elif category == 'color':\n",
    "        return co_data, 8\n",
    "    elif category == 'deco':\n",
    "        return d_data, 5.7\n",
    "    elif category == 'pattern':\n",
    "        return p_data, 6.7\n",
    "    return None"
   ]
  },
  {
   "cell_type": "code",
   "execution_count": 80,
   "metadata": {},
   "outputs": [],
   "source": [
    "def pass_filter(value, count):\n",
    "    result = value * math.sqrt(((count/10) + 1) * count)\n",
    "    return result"
   ]
  },
  {
   "cell_type": "code",
   "execution_count": 81,
   "metadata": {},
   "outputs": [],
   "source": [
    "def filter_type(user_input, queryset):\n",
    "    types = user_input.pop('type')\n",
    "    qs = queryset.filter(type_result__contains=types)\n",
    "    return qs"
   ]
  },
  {
   "cell_type": "code",
   "execution_count": 82,
   "metadata": {},
   "outputs": [],
   "source": [
    "def product_overlap_count(user_input, instance):\n",
    "    count = 0\n",
    "    value = 0\n",
    "#     weight = 2 # shape = color > pattern > charm > deco \n",
    "    \n",
    "    for category in user_input.keys():\n",
    "        data, weight = get_data_result(category, instance)\n",
    "        user_select = user_input[category]\n",
    "        if user_select in data:\n",
    "            count +=1\n",
    "            value += data[user_select] * weight\n",
    "            \n",
    "    if count == 0:\n",
    "        pass\n",
    "    \n",
    "    result = pass_filter(value, count)\n",
    "\n",
    "    return instance, result"
   ]
  },
  {
   "cell_type": "code",
   "execution_count": 83,
   "metadata": {},
   "outputs": [],
   "source": [
    "def filtered_data(instance, user_input, result_dict):\n",
    "    i, result = product_overlap_count(user_input, instance)\n",
    "    if result != 0:\n",
    "        result_dict[i]=result\n",
    "    else:\n",
    "        pass\n",
    "    return result_dict"
   ]
  },
  {
   "cell_type": "code",
   "execution_count": 88,
   "metadata": {},
   "outputs": [],
   "source": [
    "def search(user_input):\n",
    "    queryset = ProductCategories.objects.all()\n",
    "    qs = filter_type(user_input, queryset)\n",
    "    result_dict = {}\n",
    "    for q in qs:\n",
    "        result_dict = filtered_data(q, user_input, result_dict)\n",
    "    sorted_category_result_list = sorted(result_dict, key=lambda kv: result_dict[kv], reverse=True)\n",
    "    sorted_product = list(map(lambda x: x.product, sorted_category_result_list))\n",
    "    return sorted_product"
   ]
  },
  {
   "cell_type": "code",
   "execution_count": 89,
   "metadata": {},
   "outputs": [],
   "source": [
    "user_input = {\n",
    "    'type': 'cross_bag',\n",
    "    'color': 'red',\n",
    "    'shape': 'square'\n",
    "}"
   ]
  },
  {
   "cell_type": "code",
   "execution_count": 93,
   "metadata": {
    "scrolled": true
   },
   "outputs": [
    {
     "data": {
      "text/plain": [
       "[<Product: Product object (1466)>,\n",
       " <Product: Product object (1473)>,\n",
       " <Product: Product object (1462)>,\n",
       " <Product: Product object (1463)>,\n",
       " <Product: Product object (1470)>,\n",
       " <Product: Product object (1467)>]"
      ]
     },
     "execution_count": 93,
     "metadata": {},
     "output_type": "execute_result"
    }
   ],
   "source": [
    "r"
   ]
  },
  {
   "cell_type": "code",
   "execution_count": 100,
   "metadata": {},
   "outputs": [
    {
     "data": {
      "text/plain": [
       "<QuerySet []>"
      ]
     },
     "execution_count": 100,
     "metadata": {},
     "output_type": "execute_result"
    }
   ],
   "source": [
    "ProductCategories.objects.filter(colors__isnull=True)"
   ]
  },
  {
   "cell_type": "code",
   "execution_count": 101,
   "metadata": {},
   "outputs": [],
   "source": [
    "a={}"
   ]
  },
  {
   "cell_type": "code",
   "execution_count": 102,
   "metadata": {},
   "outputs": [
    {
     "name": "stdout",
     "output_type": "stream",
     "text": [
      "--\n"
     ]
    }
   ],
   "source": [
    "if not a:\n",
    "    print('--')"
   ]
  },
  {
   "cell_type": "code",
   "execution_count": 103,
   "metadata": {},
   "outputs": [
    {
     "ename": "AttributeError",
     "evalue": "'Product' object has no attribute 'is_valid'",
     "output_type": "error",
     "traceback": [
      "\u001b[0;31m---------------------------------------------------------------------------\u001b[0m",
      "\u001b[0;31mAttributeError\u001b[0m                            Traceback (most recent call last)",
      "\u001b[0;32m<ipython-input-103-c809ffdf2cda>\u001b[0m in \u001b[0;36m<module>\u001b[0;34m\u001b[0m\n\u001b[0;32m----> 1\u001b[0;31m \u001b[0mProduct\u001b[0m\u001b[0;34m.\u001b[0m\u001b[0mobjects\u001b[0m\u001b[0;34m.\u001b[0m\u001b[0mlast\u001b[0m\u001b[0;34m(\u001b[0m\u001b[0;34m)\u001b[0m\u001b[0;34m.\u001b[0m\u001b[0mis_valid\u001b[0m\u001b[0;34m\u001b[0m\u001b[0;34m\u001b[0m\u001b[0m\n\u001b[0m",
      "\u001b[0;31mAttributeError\u001b[0m: 'Product' object has no attribute 'is_valid'"
     ]
    }
   ],
   "source": [
    "Product.objects.last().is_valid"
   ]
  },
  {
   "cell_type": "code",
   "execution_count": null,
   "metadata": {},
   "outputs": [],
   "source": []
  }
 ],
 "metadata": {
  "kernelspec": {
   "display_name": "Python 3",
   "language": "python",
   "name": "python3"
  },
  "language_info": {
   "codemirror_mode": {
    "name": "ipython",
    "version": 3
   },
   "file_extension": ".py",
   "mimetype": "text/x-python",
   "name": "python",
   "nbconvert_exporter": "python",
   "pygments_lexer": "ipython3",
   "version": "3.7.3"
  }
 },
 "nbformat": 4,
 "nbformat_minor": 2
}
