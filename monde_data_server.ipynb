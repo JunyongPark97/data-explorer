{
 "cells": [
  {
   "cell_type": "code",
   "execution_count": 11,
   "metadata": {},
   "outputs": [],
   "source": [
    "import django\n",
    "import os\n",
    "import json\n",
    "os.environ['DJANGO_SETTINGS_MODULE'] = 'django_settings'\n",
    "django.setup()"
   ]
  },
  {
   "cell_type": "code",
   "execution_count": null,
   "metadata": {},
   "outputs": [],
   "source": [
    "######### 중복되는 url 구하기 ##########"
   ]
  },
  {
   "cell_type": "code",
   "execution_count": 12,
   "metadata": {},
   "outputs": [],
   "source": [
    "from data_management.models import *"
   ]
  },
  {
   "cell_type": "code",
   "execution_count": 3,
   "metadata": {},
   "outputs": [],
   "source": [
    "from django.db.models import Count"
   ]
  },
  {
   "cell_type": "code",
   "execution_count": 4,
   "metadata": {
    "scrolled": true
   },
   "outputs": [],
   "source": [
    "dups = (\n",
    "    OriginalImage.objects.values('image_url')\n",
    "    .annotate(count=Count('id'))\n",
    "    .values('image_url')\n",
    "    .order_by()\n",
    "    .filter(count__gt=1)\n",
    ")\n"
   ]
  },
  {
   "cell_type": "code",
   "execution_count": 5,
   "metadata": {},
   "outputs": [],
   "source": [
    "ll=[]\n",
    "for i in OriginalImage.objects.filter(image_url__in=dups, valid=False):\n",
    "    ll.append(i)"
   ]
  },
  {
   "cell_type": "code",
   "execution_count": 10,
   "metadata": {},
   "outputs": [],
   "source": [
    "for i in la:\n",
    "    url = i.image_url\n",
    "    for q in qq:\n",
    "        if q.image_url == url and i != q:\n",
    "            s = qq.pop(qq.index(q))\n",
    "            poped.append(s)\n",
    "            try:\n",
    "                qq.pop(qq.index(i))\n",
    "            except:\n",
    "                pass"
   ]
  },
  {
   "cell_type": "code",
   "execution_count": 19,
   "metadata": {},
   "outputs": [],
   "source": [
    "D = list(set(ll)-set(poped))"
   ]
  },
  {
   "cell_type": "code",
   "execution_count": 10,
   "metadata": {
    "scrolled": true
   },
   "outputs": [
    {
     "data": {
      "text/plain": [
       "'http://www.luxuriousworld.net/wp-content/uploads/2016/01/yellow-handbags-6.jpg'"
      ]
     },
     "execution_count": 10,
     "metadata": {},
     "output_type": "execute_result"
    }
   ],
   "source": [
    "OriginalImage.objects.filter(image_url__isnull=False, valid=False).last().image_url"
   ]
  },
  {
   "cell_type": "code",
   "execution_count": 14,
   "metadata": {},
   "outputs": [
    {
     "data": {
      "text/plain": [
       "4262"
      ]
     },
     "execution_count": 14,
     "metadata": {},
     "output_type": "execute_result"
    }
   ],
   "source": [
    "OriginalImage.objects.filter(valid=True).count()"
   ]
  },
  {
   "cell_type": "code",
   "execution_count": 26,
   "metadata": {},
   "outputs": [],
   "source": [
    "Did=[]\n",
    "for d in D:\n",
    "    Did.append(d.id)"
   ]
  },
  {
   "cell_type": "code",
   "execution_count": null,
   "metadata": {},
   "outputs": [],
   "source": [
    "######### 중복되는 url 구하기 END ##########"
   ]
  },
  {
   "cell_type": "code",
   "execution_count": null,
   "metadata": {},
   "outputs": [],
   "source": [
    "######### upload Original Image to S3 #########"
   ]
  },
  {
   "cell_type": "code",
   "execution_count": 3,
   "metadata": {},
   "outputs": [],
   "source": [
    "import boto3\n",
    "from loader import load_credential\n",
    "import random\n",
    "import string\n",
    "from PIL import Image\n",
    "from io import BytesIO\n",
    "from django.core.files.uploadedfile import InMemoryUploadedFile"
   ]
  },
  {
   "cell_type": "code",
   "execution_count": 4,
   "metadata": {},
   "outputs": [],
   "source": [
    "def get_image_filename(n):\n",
    "    _First = '_1'\n",
    "    temp = ''.join(random.choice(string.ascii_uppercase + string.digits) for _ in range(10)) + \\\n",
    "           random.choice(string.ascii_uppercase) + _First + '.jpg'\n",
    "    \n",
    "    return 'hdf5_{}_'.format(n)+temp"
   ]
  },
  {
   "cell_type": "code",
   "execution_count": 5,
   "metadata": {},
   "outputs": [],
   "source": [
    "ACCESS_KEY = load_credential(\"AWS_ACCESS_KEY_ID\",\"\")\n",
    "SECRET_ACCESS_KEY = load_credential(\"AWS_SECRET_ACCESS_KEY\",\"\")"
   ]
  },
  {
   "cell_type": "code",
   "execution_count": 6,
   "metadata": {},
   "outputs": [],
   "source": [
    "# s3 client 생성\n",
    "s3 = boto3.client('s3', aws_access_key_id=ACCESS_KEY, aws_secret_access_key=SECRET_ACCESS_KEY)"
   ]
  },
  {
   "cell_type": "code",
   "execution_count": 7,
   "metadata": {
    "scrolled": true
   },
   "outputs": [],
   "source": [
    "# s3 image upload 와 동시에 original image 생성 (using s3_image_url)\n",
    "def upload_s3_image(n):\n",
    "    for i in range(n):\n",
    "        local_path = '/Users/mac/Desktop/data_handler/data-handler/hdf5/hdf5_bag_227_{}.jpg'.format(i)\n",
    "        bucket = 'temp-originalimage'\n",
    "        name = get_image_filename(i)\n",
    "        s3.upload_file(local_path, bucket, name)\n",
    "        url = 'https://temp-originalimage.s3.ap-northeast-2.amazonaws.com/' + name\n",
    "        OriginalImage.objects.create(s3_image_url=url)"
   ]
  },
  {
   "cell_type": "code",
   "execution_count": null,
   "metadata": {},
   "outputs": [],
   "source": [
    "# TODO 업로드 된것 이후로 업로드 하는 코드 구현"
   ]
  }
 ],
 "metadata": {
  "kernelspec": {
   "display_name": "Python 3",
   "language": "python",
   "name": "python3"
  },
  "language_info": {
   "codemirror_mode": {
    "name": "ipython",
    "version": 3
   },
   "file_extension": ".py",
   "mimetype": "text/x-python",
   "name": "python",
   "nbconvert_exporter": "python",
   "pygments_lexer": "ipython3",
   "version": "3.7.3"
  }
 },
 "nbformat": 4,
 "nbformat_minor": 2
}
