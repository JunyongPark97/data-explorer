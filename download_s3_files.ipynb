{
 "cells": [
  {
   "cell_type": "code",
   "execution_count": 1,
   "metadata": {},
   "outputs": [],
   "source": [
    "from boto3.session import Session\n",
    "import boto3\n",
    "import botocore\n",
    "import pandas as pd"
   ]
  },
  {
   "cell_type": "code",
   "execution_count": 2,
   "metadata": {},
   "outputs": [],
   "source": [
    "from loader import load_credential"
   ]
  },
  {
   "cell_type": "code",
   "execution_count": 3,
   "metadata": {},
   "outputs": [],
   "source": [
    "ACCESS_KEY = load_credential(\"AWS_ACCESS_KEY_ID\",\"\")\n",
    "SECRET_ACCESS_KEY = load_credential(\"AWS_SECRET_ACCESS_KEY\",\"\")"
   ]
  },
  {
   "cell_type": "code",
   "execution_count": 4,
   "metadata": {},
   "outputs": [],
   "source": [
    "class S3Manager():\n",
    "    def __init__(self):\n",
    "        self.access_key = load_credential(\"AWS_ACCESS_KEY_ID\",\"\")\n",
    "        self.secret_access_key = load_credential(\"AWS_SECRET_ACCESS_KEY\",\"\")\n",
    "        self.s3 =  boto3.resource('s3',\n",
    "                                aws_access_key_id=ACCESS_KEY,\n",
    "                                aws_secret_access_key=SECRET_ACCESS_KEY)\n",
    "\n",
    "    def get_file_lists(self, bucket_name, s3_folder):\n",
    "        lists = []\n",
    "        if not s3_folder:\n",
    "            for s3_file in self.s3.Bucket(bucket_name).objects.all():\n",
    "                lists.append(s3_file.key)\n",
    "            return lists\n",
    "        for s3_file in self.s3.Bucket(bucket_name).objects.all():\n",
    "            if s3_file.key.split('/')[0] == s3_folder:\n",
    "                lists.append(s3_file.key.split('/')[1])\n",
    "        return lists\n",
    "    \n",
    "    def extract_training_lists(self, csv_file, file_list):\n",
    "        df = pd.read_csv(csv_file)\n",
    "        csv_list = []\n",
    "        new_file_list = []\n",
    "        for i in range(len(df)):\n",
    "            csv_list.append(df['origin_url'][i].split('/')[-1])\n",
    "        for i in range(len(file_list)):\n",
    "            for j in range(len(csv_list)):\n",
    "                if(file_list[i] == csv_list[j]):\n",
    "                    new_file_list.append(file_list[i])\n",
    "        return new_file_list\n",
    "    \n",
    "    def download_s3_files(self, bucket_name, s3_folder, csv_file, local_path):\n",
    "        # local_path 는 jupyter를 실행한 폴더 기준\n",
    "        # 폴더 경로는 \\\\로 끝나야 함 (for Window)\n",
    "        # TODO : pandas로 csv 읽고 filelist에 있는 것만 남기기\n",
    "        file_list = self.get_file_lists(bucket_name, s3_folder)\n",
    "        file_list = self.extract_training_lists(csv_file, file_list)\n",
    "        for file in file_list[:3]:\n",
    "            if s3_folder:\n",
    "                KEY = s3_folder + '/' + file\n",
    "            else:\n",
    "                KEY = file\n",
    "            print(KEY)\n",
    "            try:\n",
    "                self.s3.Bucket(bucket_name).download_file(KEY, local_path + file)\n",
    "                print('downloaded')\n",
    "            except botocore.exceptions.ClientError as e:\n",
    "                if e.response['Error']['Code'] == \"404\":\n",
    "                    print(\"The object does not exist.\")\n",
    "                else:\n",
    "                    print('----')\n",
    "                    raise"
   ]
  },
  {
   "cell_type": "code",
   "execution_count": 5,
   "metadata": {},
   "outputs": [],
   "source": [
    "s3manager = S3Manager()"
   ]
  },
  {
   "cell_type": "code",
   "execution_count": 6,
   "metadata": {},
   "outputs": [],
   "source": [
    "# download from monde-data : BucketNmae --> 크롤링 파일들 박싱한 데이터 저장한 버킷\n",
    "# s3manager.download_s3_files('버킷이름', ''폴더이름, 'csv파일', '저장경로')"
   ]
  },
  {
   "cell_type": "code",
   "execution_count": 7,
   "metadata": {
    "scrolled": true
   },
   "outputs": [
    {
     "name": "stdout",
     "output_type": "stream",
     "text": [
      "original-bag-images-dev/009KR55482K_1.jpg\n",
      "downloaded\n",
      "original-bag-images-dev/DDQFEHN3HDP_1.jpg\n",
      "downloaded\n",
      "original-bag-images-dev/TVJHXSJI4JE_1.jpg\n",
      "downloaded\n"
     ]
    }
   ],
   "source": [
    "s3manager.download_s3_files('monde-data', 'original-bag-images-dev', './crop_download_test.csv', './data/')"
   ]
  },
  {
   "cell_type": "code",
   "execution_count": 8,
   "metadata": {},
   "outputs": [],
   "source": [
    "# download from temp-originalimage : BucketNmae --> hdf5파일들 저장한 버킷\n",
    "# s3manager.download_s3_files('버킷이름', ''폴더이름, 'csv파일', '저장경로')\n",
    "# 폴더가 없으므로 비워둠"
   ]
  },
  {
   "cell_type": "code",
   "execution_count": 10,
   "metadata": {},
   "outputs": [
    {
     "name": "stdout",
     "output_type": "stream",
     "text": [
      "hdf5_0_UE0OBJCPG1B_1.jpg\n",
      "downloaded\n",
      "hdf5_2_KBX4Y2I1E0F_1.jpg\n",
      "downloaded\n",
      "hdf5_3_K6F6ZHLDUHQ_1.jpg\n",
      "downloaded\n"
     ]
    }
   ],
   "source": [
    "s3manager.download_s3_files('temp-originalimage', '', './s3upload_download_test.csv', './data/')"
   ]
  },
  {
   "cell_type": "code",
   "execution_count": null,
   "metadata": {},
   "outputs": [],
   "source": []
  }
 ],
 "metadata": {
  "kernelspec": {
   "display_name": "Python 3",
   "language": "python",
   "name": "python3"
  },
  "language_info": {
   "codemirror_mode": {
    "name": "ipython",
    "version": 3
   },
   "file_extension": ".py",
   "mimetype": "text/x-python",
   "name": "python",
   "nbconvert_exporter": "python",
   "pygments_lexer": "ipython3",
   "version": "3.7.3"
  }
 },
 "nbformat": 4,
 "nbformat_minor": 2
}
