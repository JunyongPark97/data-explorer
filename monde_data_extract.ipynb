{
 "cells": [
  {
   "cell_type": "code",
   "execution_count": 1,
   "metadata": {},
   "outputs": [],
   "source": [
    "import django\n",
    "import os\n",
    "import json\n",
    "os.environ['DJANGO_SETTINGS_MODULE'] = 'django_settings'\n",
    "django.setup()"
   ]
  },
  {
   "cell_type": "code",
   "execution_count": 13,
   "metadata": {},
   "outputs": [],
   "source": [
    "import pandas as pd"
   ]
  },
  {
   "cell_type": "code",
   "execution_count": 14,
   "metadata": {},
   "outputs": [],
   "source": [
    "from data_management.models import *"
   ]
  },
  {
   "cell_type": "code",
   "execution_count": 15,
   "metadata": {
    "scrolled": true
   },
   "outputs": [
    {
     "data": {
      "text/plain": [
       "<QuerySet [<CroppedImage: CroppedImage object (178)>, <CroppedImage: CroppedImage object (179)>, <CroppedImage: CroppedImage object (180)>, <CroppedImage: CroppedImage object (181)>, <CroppedImage: CroppedImage object (182)>, <CroppedImage: CroppedImage object (183)>, <CroppedImage: CroppedImage object (184)>, <CroppedImage: CroppedImage object (185)>, <CroppedImage: CroppedImage object (186)>, <CroppedImage: CroppedImage object (187)>, <CroppedImage: CroppedImage object (188)>, <CroppedImage: CroppedImage object (189)>, <CroppedImage: CroppedImage object (190)>, <CroppedImage: CroppedImage object (191)>, <CroppedImage: CroppedImage object (192)>, <CroppedImage: CroppedImage object (193)>, <CroppedImage: CroppedImage object (194)>, <CroppedImage: CroppedImage object (195)>, <CroppedImage: CroppedImage object (196)>, <CroppedImage: CroppedImage object (197)>, '...(remaining elements truncated)...']>"
      ]
     },
     "execution_count": 15,
     "metadata": {},
     "output_type": "execute_result"
    }
   ],
   "source": [
    "CroppedImage.objects.select_related('origin_source')"
   ]
  },
  {
   "cell_type": "code",
   "execution_count": 43,
   "metadata": {},
   "outputs": [],
   "source": [
    "left = []\n",
    "top = []\n",
    "right = []\n",
    "bottom = []\n",
    "origin_url = []"
   ]
  },
  {
   "cell_type": "code",
   "execution_count": 44,
   "metadata": {},
   "outputs": [],
   "source": [
    "for c in CroppedImage.objects.all()[:10]:\n",
    "    left.append(c.left)\n",
    "    top.append(c.top)\n",
    "    right.append(c.right)\n",
    "    bottom.append(c.bottom)\n",
    "    origin_url.append(c.origin_source.image.url)"
   ]
  },
  {
   "cell_type": "code",
   "execution_count": 53,
   "metadata": {},
   "outputs": [
    {
     "name": "stdout",
     "output_type": "stream",
     "text": [
      "10\n"
     ]
    }
   ],
   "source": [
    "dic = {}\n",
    "dic['left']=left\n",
    "dic['top']=top\n",
    "dic['right']=right\n",
    "dic['bottom']=bottom\n",
    "dic['origin_url']=origin_url\n",
    "print(len(dic['left']))"
   ]
  },
  {
   "cell_type": "code",
   "execution_count": 54,
   "metadata": {},
   "outputs": [],
   "source": [
    "test_data_pd=pd.DataFrame.from_dict(dic)"
   ]
  },
  {
   "cell_type": "code",
   "execution_count": 55,
   "metadata": {},
   "outputs": [
    {
     "data": {
      "text/html": [
       "<div>\n",
       "<style scoped>\n",
       "    .dataframe tbody tr th:only-of-type {\n",
       "        vertical-align: middle;\n",
       "    }\n",
       "\n",
       "    .dataframe tbody tr th {\n",
       "        vertical-align: top;\n",
       "    }\n",
       "\n",
       "    .dataframe thead th {\n",
       "        text-align: right;\n",
       "    }\n",
       "</style>\n",
       "<table border=\"1\" class=\"dataframe\">\n",
       "  <thead>\n",
       "    <tr style=\"text-align: right;\">\n",
       "      <th></th>\n",
       "      <th>left</th>\n",
       "      <th>top</th>\n",
       "      <th>right</th>\n",
       "      <th>bottom</th>\n",
       "      <th>origin_url</th>\n",
       "    </tr>\n",
       "  </thead>\n",
       "  <tbody>\n",
       "    <tr>\n",
       "      <td>0</td>\n",
       "      <td>0.1088</td>\n",
       "      <td>0.0736</td>\n",
       "      <td>0.9796</td>\n",
       "      <td>0.9332</td>\n",
       "      <td>https://monde-data.s3.amazonaws.com/original-b...</td>\n",
       "    </tr>\n",
       "    <tr>\n",
       "      <td>1</td>\n",
       "      <td>0.1234</td>\n",
       "      <td>0.0137</td>\n",
       "      <td>0.8547</td>\n",
       "      <td>0.9970</td>\n",
       "      <td>https://monde-data.s3.amazonaws.com/original-b...</td>\n",
       "    </tr>\n",
       "    <tr>\n",
       "      <td>2</td>\n",
       "      <td>0.2437</td>\n",
       "      <td>0.1885</td>\n",
       "      <td>0.8038</td>\n",
       "      <td>0.9606</td>\n",
       "      <td>https://monde-data.s3.amazonaws.com/original-b...</td>\n",
       "    </tr>\n",
       "    <tr>\n",
       "      <td>3</td>\n",
       "      <td>0.0175</td>\n",
       "      <td>0.2182</td>\n",
       "      <td>0.9817</td>\n",
       "      <td>0.7890</td>\n",
       "      <td>https://monde-data.s3.amazonaws.com/original-b...</td>\n",
       "    </tr>\n",
       "    <tr>\n",
       "      <td>4</td>\n",
       "      <td>0.0267</td>\n",
       "      <td>0.0102</td>\n",
       "      <td>0.9762</td>\n",
       "      <td>0.9702</td>\n",
       "      <td>https://monde-data.s3.amazonaws.com/original-b...</td>\n",
       "    </tr>\n",
       "    <tr>\n",
       "      <td>5</td>\n",
       "      <td>0.0304</td>\n",
       "      <td>0.2482</td>\n",
       "      <td>0.9654</td>\n",
       "      <td>0.7661</td>\n",
       "      <td>https://monde-data.s3.amazonaws.com/original-b...</td>\n",
       "    </tr>\n",
       "    <tr>\n",
       "      <td>6</td>\n",
       "      <td>0.0307</td>\n",
       "      <td>0.4273</td>\n",
       "      <td>0.9474</td>\n",
       "      <td>0.9519</td>\n",
       "      <td>https://monde-data.s3.amazonaws.com/original-b...</td>\n",
       "    </tr>\n",
       "    <tr>\n",
       "      <td>7</td>\n",
       "      <td>0.0231</td>\n",
       "      <td>0.1217</td>\n",
       "      <td>0.9788</td>\n",
       "      <td>0.9030</td>\n",
       "      <td>https://monde-data.s3.amazonaws.com/original-b...</td>\n",
       "    </tr>\n",
       "    <tr>\n",
       "      <td>8</td>\n",
       "      <td>0.0131</td>\n",
       "      <td>0.0329</td>\n",
       "      <td>1.0000</td>\n",
       "      <td>0.9465</td>\n",
       "      <td>https://monde-data.s3.amazonaws.com/original-b...</td>\n",
       "    </tr>\n",
       "    <tr>\n",
       "      <td>9</td>\n",
       "      <td>0.0592</td>\n",
       "      <td>0.4290</td>\n",
       "      <td>0.9167</td>\n",
       "      <td>0.9273</td>\n",
       "      <td>https://monde-data.s3.amazonaws.com/original-b...</td>\n",
       "    </tr>\n",
       "  </tbody>\n",
       "</table>\n",
       "</div>"
      ],
      "text/plain": [
       "     left     top   right  bottom  \\\n",
       "0  0.1088  0.0736  0.9796  0.9332   \n",
       "1  0.1234  0.0137  0.8547  0.9970   \n",
       "2  0.2437  0.1885  0.8038  0.9606   \n",
       "3  0.0175  0.2182  0.9817  0.7890   \n",
       "4  0.0267  0.0102  0.9762  0.9702   \n",
       "5  0.0304  0.2482  0.9654  0.7661   \n",
       "6  0.0307  0.4273  0.9474  0.9519   \n",
       "7  0.0231  0.1217  0.9788  0.9030   \n",
       "8  0.0131  0.0329  1.0000  0.9465   \n",
       "9  0.0592  0.4290  0.9167  0.9273   \n",
       "\n",
       "                                          origin_url  \n",
       "0  https://monde-data.s3.amazonaws.com/original-b...  \n",
       "1  https://monde-data.s3.amazonaws.com/original-b...  \n",
       "2  https://monde-data.s3.amazonaws.com/original-b...  \n",
       "3  https://monde-data.s3.amazonaws.com/original-b...  \n",
       "4  https://monde-data.s3.amazonaws.com/original-b...  \n",
       "5  https://monde-data.s3.amazonaws.com/original-b...  \n",
       "6  https://monde-data.s3.amazonaws.com/original-b...  \n",
       "7  https://monde-data.s3.amazonaws.com/original-b...  \n",
       "8  https://monde-data.s3.amazonaws.com/original-b...  \n",
       "9  https://monde-data.s3.amazonaws.com/original-b...  "
      ]
     },
     "execution_count": 55,
     "metadata": {},
     "output_type": "execute_result"
    }
   ],
   "source": [
    "test_data_pd"
   ]
  },
  {
   "cell_type": "code",
   "execution_count": 58,
   "metadata": {},
   "outputs": [],
   "source": [
    "test_data_pd.to_csv(\"test_pd.csv\", mode='w', index=False)"
   ]
  }
 ],
 "metadata": {
  "kernelspec": {
   "display_name": "Python 3",
   "language": "python",
   "name": "python3"
  },
  "language_info": {
   "codemirror_mode": {
    "name": "ipython",
    "version": 3
   },
   "file_extension": ".py",
   "mimetype": "text/x-python",
   "name": "python",
   "nbconvert_exporter": "python",
   "pygments_lexer": "ipython3",
   "version": "3.7.3"
  }
 },
 "nbformat": 4,
 "nbformat_minor": 2
}
