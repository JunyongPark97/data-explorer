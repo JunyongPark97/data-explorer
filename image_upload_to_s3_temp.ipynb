{
 "cells": [
  {
   "cell_type": "code",
   "execution_count": 11,
   "metadata": {},
   "outputs": [],
   "source": [
    "import django\n",
    "import os\n",
    "import json\n",
    "os.environ['DJANGO_SETTINGS_MODULE'] = 'django_settings'\n",
    "django.setup()"
   ]
  },
  {
   "cell_type": "code",
   "execution_count": 12,
   "metadata": {},
   "outputs": [],
   "source": [
    "######### upload Original Image to S3 #########"
   ]
  },
  {
   "cell_type": "code",
   "execution_count": 13,
   "metadata": {},
   "outputs": [],
   "source": [
    "from data_management.models import *"
   ]
  },
  {
   "cell_type": "code",
   "execution_count": 14,
   "metadata": {},
   "outputs": [],
   "source": [
    "import boto3\n",
    "from loader import load_credential\n",
    "import random\n",
    "import string\n",
    "from PIL import Image\n",
    "from io import BytesIO\n",
    "from django.core.files.uploadedfile import InMemoryUploadedFile"
   ]
  },
  {
   "cell_type": "code",
   "execution_count": 15,
   "metadata": {},
   "outputs": [],
   "source": [
    "def get_image_filename(field, n):\n",
    "    _First = '_1'\n",
    "    temp = ''.join(random.choice(string.ascii_uppercase + string.digits) for _ in range(10)) + \\\n",
    "           random.choice(string.ascii_uppercase) + _First + '.jpg'\n",
    "    \n",
    "    return '{}_{}_'.format(field,n)+temp"
   ]
  },
  {
   "cell_type": "code",
   "execution_count": 16,
   "metadata": {},
   "outputs": [],
   "source": [
    "ACCESS_KEY = load_credential(\"AWS_ACCESS_KEY_ID\",\"\")\n",
    "SECRET_ACCESS_KEY = load_credential(\"AWS_SECRET_ACCESS_KEY\",\"\")"
   ]
  },
  {
   "cell_type": "code",
   "execution_count": 17,
   "metadata": {},
   "outputs": [],
   "source": [
    "# s3 client 생성\n",
    "s3 = boto3.client('s3', aws_access_key_id=ACCESS_KEY, aws_secret_access_key=SECRET_ACCESS_KEY)"
   ]
  },
  {
   "cell_type": "code",
   "execution_count": 24,
   "metadata": {
    "scrolled": true
   },
   "outputs": [],
   "source": [
    "# s3 image upload 와 동시에 original image 생성 (using s3_image_url)\n",
    "# TODO FIX ME\n",
    "def upload_s3_image():\n",
    "    for i in range(200):\n",
    "        i=i+36\n",
    "        try:\n",
    "            local_path = '/Users/mac/Desktop/data_handler/data-handler/handbag/bucket/bucket_{}.jpg'.format(i)\n",
    "            bucket = 'temp-originalimage'\n",
    "            name = get_image_filename(\"bucket\", i)\n",
    "            s3.upload_file(local_path, bucket, name)\n",
    "            url = 'https://temp-originalimage.s3.ap-northeast-2.amazonaws.com/' + name\n",
    "            OriginalImage.objects.create(s3_image_url=url)\n",
    "        except:\n",
    "            pass\n",
    "    for i in range(220):\n",
    "        try:\n",
    "            local_path = '/Users/mac/Desktop/data_handler/data-handler/handbag/circle_bag/circle_{}.jpg'.format(i)\n",
    "            bucket = 'temp-originalimage'\n",
    "            name = get_image_filename(\"circle\", i)\n",
    "            s3.upload_file(local_path, bucket, name)\n",
    "            url = 'https://temp-originalimage.s3.ap-northeast-2.amazonaws.com/' + name\n",
    "            OriginalImage.objects.create(s3_image_url=url)\n",
    "        except:\n",
    "            pass\n",
    "    for i in range(218):\n",
    "        try:\n",
    "            local_path = '/Users/mac/Desktop/data_handler/data-handler/handbag/half_circle_bag/half_{}.jpg'.format(i)\n",
    "            bucket = 'temp-originalimage'\n",
    "            name = get_image_filename(\"half_circle\", i)\n",
    "            s3.upload_file(local_path, bucket, name)\n",
    "            url = 'https://temp-originalimage.s3.ap-northeast-2.amazonaws.com/' + name\n",
    "            OriginalImage.objects.create(s3_image_url=url)\n",
    "        except:\n",
    "            pass\n",
    "    for i in range(225):\n",
    "        try:\n",
    "            local_path = '/Users/mac/Desktop/data_handler/data-handler/handbag/hobo_bag/hobo_{}.jpg'.format(i)\n",
    "            bucket = 'temp-originalimage'\n",
    "            name = get_image_filename(\"hobo\",i)\n",
    "            s3.upload_file(local_path, bucket, name)\n",
    "            url = 'https://temp-originalimage.s3.ap-northeast-2.amazonaws.com/' + name\n",
    "            OriginalImage.objects.create(s3_image_url=url)\n",
    "        except:\n",
    "            pass\n",
    "    for i in range(234):\n",
    "        try:\n",
    "            local_path = '/Users/mac/Desktop/data_handler/data-handler/handbag/square_bag/square_{}.jpg'.format(i)\n",
    "            bucket = 'temp-originalimage'\n",
    "            name = get_image_filename(\"square\",i)\n",
    "            s3.upload_file(local_path, bucket, name)\n",
    "            url = 'https://temp-originalimage.s3.ap-northeast-2.amazonaws.com/' + name\n",
    "            OriginalImage.objects.create(s3_image_url=url)\n",
    "        except:\n",
    "            pass\n",
    "    for i in range(233):\n",
    "        try:\n",
    "            local_path = '/Users/mac/Desktop/data_handler/data-handler/handbag/trapezoid_bag/trapezoid_{}.jpg'.format(i)\n",
    "            bucket = 'temp-originalimage'\n",
    "            name = get_image_filename(\"trapezoid\",i)\n",
    "            s3.upload_file(local_path, bucket, name)\n",
    "            url = 'https://temp-originalimage.s3.ap-northeast-2.amazonaws.com/' + name\n",
    "            OriginalImage.objects.create(s3_image_url=url)\n",
    "        except:\n",
    "            pass"
   ]
  },
  {
   "cell_type": "code",
   "execution_count": 25,
   "metadata": {},
   "outputs": [],
   "source": [
    "# TODO 업로드 된것 이후로 업로드 하는 코드 구현"
   ]
  },
  {
   "cell_type": "code",
   "execution_count": 26,
   "metadata": {},
   "outputs": [],
   "source": [
    "upload_s3_image()"
   ]
  },
  {
   "cell_type": "code",
   "execution_count": 28,
   "metadata": {},
   "outputs": [],
   "source": [
    "q=OriginalImage.objects.filter(s3_image_url__isnull=False).last()"
   ]
  },
  {
   "cell_type": "code",
   "execution_count": 29,
   "metadata": {},
   "outputs": [
    {
     "data": {
      "text/plain": [
       "'https://temp-originalimage.s3.ap-northeast-2.amazonaws.com/trapezoid_232_5UC2FOC10TO_1.jpg'"
      ]
     },
     "execution_count": 29,
     "metadata": {},
     "output_type": "execute_result"
    }
   ],
   "source": [
    "q.s3_image_url"
   ]
  },
  {
   "cell_type": "code",
   "execution_count": null,
   "metadata": {},
   "outputs": [],
   "source": []
  }
 ],
 "metadata": {
  "kernelspec": {
   "display_name": "Python 3",
   "language": "python",
   "name": "python3"
  },
  "language_info": {
   "codemirror_mode": {
    "name": "ipython",
    "version": 3
   },
   "file_extension": ".py",
   "mimetype": "text/x-python",
   "name": "python",
   "nbconvert_exporter": "python",
   "pygments_lexer": "ipython3",
   "version": "3.7.3"
  }
 },
 "nbformat": 4,
 "nbformat_minor": 2
}
